{
 "cells": [
  {
   "cell_type": "code",
   "execution_count": null,
   "metadata": {},
   "outputs": [],
   "source": [
    "import torch \n",
    "import torch.nn as nn\n",
    "import torch.optim as optim\n",
    "import torch.nn.functional as F\n",
    "\n",
    "import torchtext\n",
    "from torchtext.data import Field, BucketIterator\n",
    "from torchtext.datasets import UDPOS\n",
    "# from torchcrf import CRF\n",
    "\n",
    "from tqdm import tqdm\n",
    "import spacy\n",
    "from sklearn.metrics import f1_score\n",
    "import warnings\n",
    "warnings.filterwarnings(\"ignore\")"
   ]
  },
  {
   "cell_type": "code",
   "execution_count": null,
   "metadata": {},
   "outputs": [],
   "source": [
    "device = torch.device(\"cuda\" if torch.cuda.is_available() else \"cpu\")\n",
    "print(device)"
   ]
  },
  {
   "cell_type": "code",
   "execution_count": null,
   "metadata": {},
   "outputs": [],
   "source": [
    "spacy_en = spacy.load(\"en_core_web_sm\")"
   ]
  },
  {
   "cell_type": "code",
   "execution_count": null,
   "metadata": {},
   "outputs": [],
   "source": [
    "def tokenizer_en(text):\n",
    "    return [token.text for token in spacy_en.tokenizer(text.lower())]"
   ]
  },
  {
   "cell_type": "code",
   "execution_count": null,
   "metadata": {},
   "outputs": [],
   "source": [
    "train_deft_file = \"../deft_corpus/data/deft_files/train/t1_biology_0_0.deft\"\n",
    "with open(train_deft_file,'r') as fl:\n",
    "    lines = fl.read().split(\"\\n\\n\")"
   ]
  },
  {
   "cell_type": "code",
   "execution_count": null,
   "metadata": {},
   "outputs": [],
   "source": [
    "lines[0].split('\\n')"
   ]
  },
  {
   "cell_type": "code",
   "execution_count": null,
   "metadata": {},
   "outputs": [],
   "source": [
    "# TOKEN TXT_SOURCE_FILE START_CHAR END_CHAR TAG TAG_ID ROOT_ID RELATION"
   ]
  },
  {
   "cell_type": "code",
   "execution_count": null,
   "metadata": {},
   "outputs": [],
   "source": [
    "def get_text_labels(sequence_tags):\n",
    "    # TOKEN TXT_SOURCE_FILE START_CHAR END_CHAR TAG TAG_ID ROOT_ID RELATION\n",
    "    text = [data[0].strip() for data in sequence_tags]\n",
    "    tags = [data[4].strip() for data in sequence_tags]\n",
    "    return {\"text\":text, \"labels\":tags}\n",
    "def parse_deft(deft_file):\n",
    "    with open(deft_file, 'r') as deft:\n",
    "        all_text = deft.read()\n",
    "    all_sequences = []\n",
    "    for lines in all_text.split(\"\\n\\n\"):\n",
    "        sents = []\n",
    "        for token_data in lines.split(\"\\n\"):\n",
    "            if len(token_data.split(\"\\t\"))==8:\n",
    "                sents.append(token_data.split(\"\\t\"))\n",
    "        all_sequences.append(get_text_labels(sents))\n",
    "    return all_sequences\n",
    "parse_deft(train_deft_file)\n"
   ]
  },
  {
   "cell_type": "code",
   "execution_count": null,
   "metadata": {},
   "outputs": [],
   "source": [
    "def get_text_labels(sequence_tags):\n",
    "    # TOKEN TXT_SOURCE_FILE START_CHAR END_CHAR TAG TAG_ID ROOT_ID RELATION\n",
    "    text = [data[0].strip for data in sequence_tags]\n",
    "    tags = [data[4].strip() for data in sequence_tags]\n",
    "    return {\"text\":text, \"labels\":tags}\n",
    "get_text_labels(parse_deft(train_deft_file)[1])"
   ]
  },
  {
   "cell_type": "code",
   "execution_count": null,
   "metadata": {},
   "outputs": [],
   "source": [
    "\n",
    "TEXT = Field(\n",
    "    sequential=True, \n",
    "    tokenize=tokenizer_en,\n",
    "    init_token=\"<sos>\",\n",
    "    eos_token=\"<eos>\",\n",
    "#     batch_first=True,\n",
    "    lower=True\n",
    ")\n",
    "LABELS = Field(\n",
    "    sequential=True, \n",
    "    init_token=\"<sos>\",\n",
    "    eos_token=\"<eos>\",\n",
    "#     batch_first=True,\n",
    "    is_target=True\n",
    ")"
   ]
  },
  {
   "cell_type": "code",
   "execution_count": null,
   "metadata": {},
   "outputs": [],
   "source": [
    "from torchtext.data import TabularDataset\n",
    "\n",
    "tv_datafields = [(\"text\", TEXT), (\"labels\", LABEL)]\n",
    "trn, vld = TabularDataset.splits(\n",
    "               path=\"../deft_corpus/data/Task1_folds/\", # the root directory where the data lies\n",
    "               train='train_0.csv',validation=\"val_0.csv\",\n",
    "               format='tsv',\n",
    "               skip_header=True, # if your csv header has a header, make sure to pass this to ensure it doesn't get proceesed as data!\n",
    "               fields=tv_datafields)"
   ]
  }
 ],
 "metadata": {
  "kernelspec": {
   "display_name": "Python 3",
   "language": "python",
   "name": "python3"
  },
  "language_info": {
   "codemirror_mode": {
    "name": "ipython",
    "version": 3
   },
   "file_extension": ".py",
   "mimetype": "text/x-python",
   "name": "python",
   "nbconvert_exporter": "python",
   "pygments_lexer": "ipython3",
   "version": "3.7.4"
  }
 },
 "nbformat": 4,
 "nbformat_minor": 4
}

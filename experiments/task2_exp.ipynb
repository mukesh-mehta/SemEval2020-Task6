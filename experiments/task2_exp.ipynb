{
 "cells": [
  {
   "cell_type": "code",
   "execution_count": null,
   "metadata": {},
   "outputs": [],
   "source": [
    "import torch \n",
    "import torch.nn as nn\n",
    "import torch.optim as optim\n",
    "import torch.nn.functional as F\n",
    "\n",
    "import torchtext\n",
    "from torchtext.data import Field, BucketIterator\n",
    "# from torchtext.datasets import UDPOS\n",
    "# from torchcrf import CRF\n",
    "\n",
    "from tqdm import tqdm\n",
    "import spacy\n",
    "from sklearn.metrics import f1_score\n",
    "import warnings\n",
    "warnings.filterwarnings(\"ignore\")"
   ]
  },
  {
   "cell_type": "code",
   "execution_count": null,
   "metadata": {},
   "outputs": [],
   "source": [
    "device = torch.device(\"cuda\" if torch.cuda.is_available() else \"cpu\")\n",
    "print(device)"
   ]
  },
  {
   "cell_type": "code",
   "execution_count": null,
   "metadata": {},
   "outputs": [],
   "source": [
    "spacy_en = spacy.load(\"en_core_web_sm\")"
   ]
  },
  {
   "cell_type": "code",
   "execution_count": null,
   "metadata": {},
   "outputs": [],
   "source": [
    "def tokenizer_en(text):\n",
    "    return text.split(\" \")"
   ]
  },
  {
   "cell_type": "code",
   "execution_count": null,
   "metadata": {},
   "outputs": [],
   "source": [
    "def get_text_labels(sequence_tags):\n",
    "    # TOKEN TXT_SOURCE_FILE START_CHAR END_CHAR TAG TAG_ID ROOT_ID RELATION\n",
    "    text = [data[0].strip() for data in sequence_tags]\n",
    "    tags = [data[4].strip() for data in sequence_tags]\n",
    "#     return {\"text\":text, \"labels\": tags}\n",
    "    return {\"text\":\" \".join(text), \"labels\": \" \".join(tags)}\n",
    "def parse_deft(deft_file):\n",
    "    with open(deft_file, 'r') as deft:\n",
    "        all_text = deft.read()\n",
    "    all_sequences = []\n",
    "    for lines in all_text.split(\"\\n\\n\"):\n",
    "        sents = []\n",
    "        for token_data in lines.split(\"\\n\"):\n",
    "            if len(token_data.split(\"\\t\"))==8:\n",
    "                sents.append(token_data.split(\"\\t\"))\n",
    "        all_sequences.append(get_text_labels(sents))\n",
    "    return all_sequences\n",
    "# parse_deft(train_deft_file)\n"
   ]
  },
  {
   "cell_type": "code",
   "execution_count": null,
   "metadata": {},
   "outputs": [],
   "source": [
    "import os\n",
    "train_deft_file = \"../deft_corpus/data/deft_files/train/\"\n",
    "all_data = []\n",
    "for files in os.listdir(train_deft_file):\n",
    "    all_data.extend(parse_deft(os.path.join(train_deft_file, files)))\n",
    "print(len(all_data))"
   ]
  },
  {
   "cell_type": "code",
   "execution_count": null,
   "metadata": {},
   "outputs": [],
   "source": [
    "# Qualifier\n",
    "for files in os.listdir(train_deft_file):\n",
    "    with open(os.path.join(train_deft_file, files), 'r') as deft:\n",
    "        all_text = deft.read()\n",
    "    for lines in all_text.split(\"\\n\\n\"):\n",
    "        for token_data in lines.split(\"\\n\"):\n",
    "            if len(token_data.split(\"\\t\"))==8:\n",
    "                if \"Alias-Term\" in token_data.split(\"\\t\")[4]:\n",
    "                    print(token_data)"
   ]
  },
  {
   "cell_type": "code",
   "execution_count": null,
   "metadata": {},
   "outputs": [],
   "source": [
    "from sklearn.model_selection import train_test_split\n",
    "train, test = train_test_split(all_data, test_size=0.1)\n",
    "len(train), len(test)"
   ]
  },
  {
   "cell_type": "code",
   "execution_count": null,
   "metadata": {},
   "outputs": [],
   "source": [
    "train[0]"
   ]
  },
  {
   "cell_type": "code",
   "execution_count": null,
   "metadata": {},
   "outputs": [],
   "source": [
    "import pandas as pd\n",
    "pd.DataFrame.from_records(train).to_csv(\"train.csv\", index=False)\n",
    "pd.DataFrame.from_records(test).to_csv(\"val.csv\", index=False)"
   ]
  },
  {
   "cell_type": "code",
   "execution_count": null,
   "metadata": {},
   "outputs": [],
   "source": [
    "TEXT = Field(\n",
    "    sequential=True, \n",
    "    tokenize=None,\n",
    "    init_token=\"<sos>\",\n",
    "    eos_token=\"<eos>\",\n",
    "#     batch_first=True,\n",
    ")\n",
    "LABELS = Field(\n",
    "    sequential=True, \n",
    "    init_token=\"<sos>\",\n",
    "    eos_token=\"<eos>\",\n",
    "#     batch_first=True,\n",
    "    is_target=True\n",
    ")"
   ]
  },
  {
   "cell_type": "code",
   "execution_count": null,
   "metadata": {},
   "outputs": [],
   "source": [
    "from torchtext.data import TabularDataset\n",
    "\n",
    "tv_datafields = [(\"text\", TEXT), (\"labels\", LABELS)]\n",
    "trn, vld = TabularDataset.splits(\n",
    "               path=\"\", # the root directory where the data lies\n",
    "               train='train.csv',validation=\"val.csv\",\n",
    "               format='csv',\n",
    "                skip_header=True,\n",
    "               fields=tv_datafields)"
   ]
  },
  {
   "cell_type": "code",
   "execution_count": null,
   "metadata": {},
   "outputs": [],
   "source": [
    "vars(trn.examples[0])"
   ]
  },
  {
   "cell_type": "code",
   "execution_count": null,
   "metadata": {},
   "outputs": [],
   "source": [
    "TEXT.build_vocab(trn, vectors=\"glove.6B.100d\")\n",
    "LABELS.build_vocab(trn)\n",
    "# PTB_LABELS.build_vocab(training_data)\n",
    "\n",
    "len(TEXT.vocab), len(LABELS.vocab)"
   ]
  },
  {
   "cell_type": "code",
   "execution_count": null,
   "metadata": {},
   "outputs": [],
   "source": [
    "vars(LABELS.vocab)"
   ]
  },
  {
   "cell_type": "code",
   "execution_count": null,
   "metadata": {},
   "outputs": [],
   "source": []
  }
 ],
 "metadata": {
  "kernelspec": {
   "display_name": "Python 3",
   "language": "python",
   "name": "python3"
  },
  "language_info": {
   "codemirror_mode": {
    "name": "ipython",
    "version": 3
   },
   "file_extension": ".py",
   "mimetype": "text/x-python",
   "name": "python",
   "nbconvert_exporter": "python",
   "pygments_lexer": "ipython3",
   "version": "3.7.4"
  }
 },
 "nbformat": 4,
 "nbformat_minor": 4
}

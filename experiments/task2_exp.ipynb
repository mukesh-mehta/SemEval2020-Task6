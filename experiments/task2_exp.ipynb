{
 "cells": [
  {
   "cell_type": "code",
   "execution_count": null,
   "metadata": {},
   "outputs": [],
   "source": [
    "import torch \n",
    "import torch.nn as nn\n",
    "import torch.optim as optim\n",
    "import torch.nn.functional as F\n",
    "\n",
    "import torchtext\n",
    "from torchtext.data import Field, BucketIterator\n",
    "from torchcrf import CRF\n",
    "\n",
    "from tqdm import tqdm\n",
    "import spacy\n",
    "from sklearn.metrics import f1_score\n",
    "import warnings\n",
    "warnings.filterwarnings(\"ignore\")"
   ]
  },
  {
   "cell_type": "code",
   "execution_count": null,
   "metadata": {},
   "outputs": [],
   "source": [
    "device = torch.device(\"cuda\" if torch.cuda.is_available() else \"cpu\")\n",
    "print(device)"
   ]
  },
  {
   "cell_type": "code",
   "execution_count": null,
   "metadata": {},
   "outputs": [],
   "source": [
    "spacy_en = spacy.load(\"en_core_web_sm\")"
   ]
  },
  {
   "cell_type": "code",
   "execution_count": null,
   "metadata": {},
   "outputs": [],
   "source": [
    "def tokenizer_en(text):\n",
    "    return text.split(\" \")"
   ]
  },
  {
   "cell_type": "code",
   "execution_count": null,
   "metadata": {},
   "outputs": [],
   "source": [
    "def get_text_labels(sequence_tags):\n",
    "    # TOKEN TXT_SOURCE_FILE START_CHAR END_CHAR TAG TAG_ID ROOT_ID RELATION\n",
    "    text = [data[0].strip() for data in sequence_tags]\n",
    "    tags = [data[4].strip() for data in sequence_tags]\n",
    "    return {\"text\":\" \".join(text), \"labels\": \" \".join(tags)}\n",
    "\n",
    "def parse_deft(deft_file):\n",
    "    with open(deft_file, 'r') as deft:\n",
    "        all_text = deft.read()\n",
    "    all_sequences = []\n",
    "    for lines in all_text.split(\"\\n\\n\"):\n",
    "        sents = []\n",
    "        for token_data in lines.split(\"\\n\"):\n",
    "            if len(token_data.split(\"\\t\"))==8 and (token_data.split(\"\\t\")[4].strip()[0] in [\"B\", \"I\", \"O\"]):\n",
    "                sents.append(token_data.split(\"\\t\"))\n",
    "        all_sequences.append(get_text_labels(sents))\n",
    "    return all_sequences\n",
    "# parse_deft(train_deft_file)\n"
   ]
  },
  {
   "cell_type": "code",
   "execution_count": null,
   "metadata": {},
   "outputs": [],
   "source": [
    "import os\n",
    "train_deft_file = \"../deft_corpus/data/deft_files/train/\"\n",
    "all_data = []\n",
    "for files in os.listdir(train_deft_file):\n",
    "    all_data.extend(parse_deft(os.path.join(train_deft_file, files)))\n",
    "print(len(all_data))"
   ]
  },
  {
   "cell_type": "code",
   "execution_count": null,
   "metadata": {},
   "outputs": [],
   "source": [
    "# Qualifier\n",
    "# for files in os.listdir(train_deft_file):\n",
    "#     with open(os.path.join(train_deft_file, files), 'r') as deft:\n",
    "#         all_text = deft.read()\n",
    "#     for lines in all_text.split(\"\\n\\n\"):\n",
    "#         for token_data in lines.split(\"\\n\"):\n",
    "#             if len(token_data.split(\"\\t\"))==8:\n",
    "#                 if \"Alias-Term\" in token_data.split(\"\\t\")[4]:\n",
    "#                     print(token_data)"
   ]
  },
  {
   "cell_type": "code",
   "execution_count": null,
   "metadata": {},
   "outputs": [],
   "source": [
    "from sklearn.model_selection import train_test_split\n",
    "train, test = train_test_split(all_data, test_size=0.1)\n",
    "len(train), len(test)"
   ]
  },
  {
   "cell_type": "code",
   "execution_count": null,
   "metadata": {},
   "outputs": [],
   "source": [
    "train[0]"
   ]
  },
  {
   "cell_type": "code",
   "execution_count": null,
   "metadata": {},
   "outputs": [],
   "source": [
    "import pandas as pd\n",
    "pd.DataFrame.from_records(train).to_csv(\"train.csv\", index=False)\n",
    "pd.DataFrame.from_records(test).to_csv(\"val.csv\", index=False)"
   ]
  },
  {
   "cell_type": "code",
   "execution_count": null,
   "metadata": {},
   "outputs": [],
   "source": [
    "TEXT = Field(\n",
    "    sequential=True, \n",
    "    tokenize=None,\n",
    "    init_token=\"<sos>\",\n",
    "    eos_token=\"<eos>\",\n",
    "#     batch_first=True,\n",
    ")\n",
    "LABELS = Field(\n",
    "    sequential=True, \n",
    "    init_token=\"<sos>\",\n",
    "    eos_token=\"<eos>\",\n",
    "#     batch_first=True,\n",
    "    is_target=True\n",
    ")"
   ]
  },
  {
   "cell_type": "code",
   "execution_count": null,
   "metadata": {},
   "outputs": [],
   "source": [
    "from torchtext.data import TabularDataset\n",
    "\n",
    "tv_datafields = [(\"text\", TEXT), (\"labels\", LABELS)]\n",
    "trn, vld = TabularDataset.splits(\n",
    "               path=\"\", # the root directory where the data lies\n",
    "               train='train.csv',validation=\"val.csv\",\n",
    "               format='csv',\n",
    "               skip_header=True,\n",
    "               fields=tv_datafields)"
   ]
  },
  {
   "cell_type": "code",
   "execution_count": null,
   "metadata": {},
   "outputs": [],
   "source": [
    "TEXT.build_vocab(trn,vld, vectors=\"glove.6B.300d\")\n",
    "LABELS.build_vocab(trn,vld)\n",
    "# PTB_LABELS.build_vocab(training_data)\n",
    "\n",
    "len(TEXT.vocab), len(LABELS.vocab)"
   ]
  },
  {
   "cell_type": "code",
   "execution_count": null,
   "metadata": {},
   "outputs": [],
   "source": [
    "vars(LABELS.vocab)"
   ]
  },
  {
   "cell_type": "code",
   "execution_count": null,
   "metadata": {},
   "outputs": [],
   "source": [
    "training_iterator, val_iter = BucketIterator.splits(\n",
    "    (trn, vld),\n",
    "    batch_sizes=(256, 256), device=device, sort_within_batch=False, sort_key=lambda x: len(x.text)\n",
    ")\n",
    "len(training_iterator), len(val_iter)"
   ]
  },
  {
   "cell_type": "code",
   "execution_count": null,
   "metadata": {},
   "outputs": [],
   "source": [
    "class BiLstm_Crf(nn.Module):\n",
    "    def __init__(self, embedding_vector, vocab_size, embedding_dim, hidden_dim, output_dim, num_layers, bidirectional):\n",
    "        super(BiLstm_Crf, self).__init__()\n",
    "        self.vocab_size = vocab_size\n",
    "        self.embedding_dim = embedding_dim\n",
    "        self.hidden_dim = hidden_dim\n",
    "        self.output_dim = output_dim\n",
    "        self.num_layers = num_layers\n",
    "        self.bidirectional = bidirectional\n",
    "        \n",
    "        self.embedding = nn.Embedding.from_pretrained(torch.FloatTensor(embedding_vector))#(self.vocab_size, self.embedding_dim)\n",
    "        self.lstm = nn.LSTM(input_size=self.embedding_dim, hidden_size=self.hidden_dim, num_layers=self.num_layers, bidirectional=self.bidirectional,\n",
    "                           dropout=0.5)\n",
    "        \n",
    "        self.dropout_layer = nn.Dropout(0.5)\n",
    "        self.linear = nn.Linear(self.hidden_dim, self.output_dim)\n",
    "        \n",
    "        self.crf_layer = CRF(self.output_dim)\n",
    "        self.inference = False\n",
    "        \n",
    "    def forward(self, inp, labels):\n",
    "        # inp = [seq_len, batch_size]\n",
    "        # labels = [seq_len, batch_size]\n",
    "             \n",
    "        embedded = self.dropout_layer(self.embedding(inp))\n",
    "        # embedded = [seq_len, batch_size, embedding_dim]\n",
    "        \n",
    "        outputs, (hidden, cell) = self.lstm(embedded)\n",
    "        # outputs = [seq_len, batch_size, 1 * hidden_size]\n",
    "        \n",
    "        out = self.linear(outputs)\n",
    "        # out = [seq_len, batch_size, output_dim]\n",
    "        \n",
    "        if self.inference is False:\n",
    "            loss = self.crf_layer(out, labels) * torch.tensor(-1, device=device)\n",
    "            return loss \n",
    "        else:\n",
    "            loss = self.crf_layer(out, labels) * torch.tensor(-1, device=device)\n",
    "            out = self.crf_layer.decode(out)\n",
    "            out = torch.tensor(out, dtype=torch.long, device=device).permute(1, 0)\n",
    "            # out = [seq_len, batch_size]\n",
    "            return out, loss"
   ]
  },
  {
   "cell_type": "code",
   "execution_count": null,
   "metadata": {},
   "outputs": [],
   "source": [
    "def train(model, iterator, optimizer, device=None):\n",
    "    model.train()\n",
    "    model.inference = False\n",
    "    \n",
    "    epoch_loss = 0.0 \n",
    "    \n",
    "    for batch in tqdm(iterator):\n",
    "        inp = batch.text\n",
    "        target = batch.labels\n",
    "        \n",
    "        optimizer.zero_grad()\n",
    "        \n",
    "        loss = model(inp, target)\n",
    "        # crf loss\n",
    "        \n",
    "        loss.backward()\n",
    "        \n",
    "        optimizer.step()\n",
    "        \n",
    "        epoch_loss += loss.item()\n",
    "        \n",
    "    return epoch_loss / len(iterator)"
   ]
  },
  {
   "cell_type": "code",
   "execution_count": null,
   "metadata": {},
   "outputs": [],
   "source": [
    "def evaluate(model, iterator, device=None):\n",
    "    model.eval()\n",
    "    \n",
    "    epoch_loss = 0.0\n",
    "    predictions = []\n",
    "    true_labels = []\n",
    "    model.inference = True\n",
    "    for batch in tqdm(iterator):\n",
    "        inp = batch.text\n",
    "        target = batch.labels\n",
    "                \n",
    "        out, loss = model(inp, target)\n",
    "        # out = [seq_len, batch_size]\n",
    "        # crf loss\n",
    "        \n",
    "        predictions.extend(out.contiguous().view(-1).cpu().tolist())\n",
    "        true_labels.extend(target.contiguous().view(-1).cpu().tolist())\n",
    "                \n",
    "        epoch_loss += loss.item()\n",
    "    \n",
    "    f1 = f1_score(true_labels, predictions, average=\"macro\")\n",
    "        \n",
    "    return epoch_loss / len(iterator), f1\n",
    "\n",
    "def number_of_parameters(model):\n",
    "    return sum(p.numel() for p in model.parameters() if p.requires_grad)"
   ]
  },
  {
   "cell_type": "code",
   "execution_count": null,
   "metadata": {},
   "outputs": [],
   "source": [
    "model = BiLstm_Crf(\n",
    "    TEXT.vocab.vectors,\n",
    "    vocab_size=len(TEXT.vocab), \n",
    "    embedding_dim=300, hidden_dim=512, \n",
    "    output_dim=len(LABELS.vocab), \n",
    "    num_layers=2, bidirectional=False\n",
    ")"
   ]
  },
  {
   "cell_type": "code",
   "execution_count": null,
   "metadata": {},
   "outputs": [],
   "source": [
    "# model.embedding.weight.data.copy_(TEXT.vocab.vectors)"
   ]
  },
  {
   "cell_type": "code",
   "execution_count": null,
   "metadata": {},
   "outputs": [],
   "source": [
    "number_of_parameters(model)"
   ]
  },
  {
   "cell_type": "code",
   "execution_count": null,
   "metadata": {},
   "outputs": [],
   "source": [
    "optimizer = optim.Adam(model.parameters())\n",
    "model = model.to(device)\n"
   ]
  },
  {
   "cell_type": "code",
   "execution_count": null,
   "metadata": {},
   "outputs": [],
   "source": [
    "N_EPOCHS = 50\n",
    "model.inference = False\n",
    "VAL_LOSS = 1e10\n",
    "for epoch in range(N_EPOCHS):\n",
    "    train_loss = train(model, training_iterator, optimizer)\n",
    "    val_loss, val_f1 = evaluate(model, val_iter)\n",
    "    \n",
    "    if VAL_LOSS > val_loss:\n",
    "        VAL_LOSS = val_loss\n",
    "        torch.save(model.state_dict(), 'bilstm-ner-crf-model.pt')\n",
    "    \n",
    "    print(f'Epoch: {epoch+1:02} | Train Loss: {train_loss:.3f} | Val. Loss: {val_loss:.3f}')\n",
    "    print(f'Val. F1 Score is : {val_f1:.2f}')\n",
    "#     torch.cuda.empty_cache()"
   ]
  },
  {
   "cell_type": "code",
   "execution_count": null,
   "metadata": {},
   "outputs": [],
   "source": []
  },
  {
   "cell_type": "code",
   "execution_count": null,
   "metadata": {},
   "outputs": [],
   "source": []
  }
 ],
 "metadata": {
  "kernelspec": {
   "display_name": "Python 3",
   "language": "python",
   "name": "python3"
  },
  "language_info": {
   "codemirror_mode": {
    "name": "ipython",
    "version": 3
   },
   "file_extension": ".py",
   "mimetype": "text/x-python",
   "name": "python",
   "nbconvert_exporter": "python",
   "pygments_lexer": "ipython3",
   "version": "3.7.4"
  }
 },
 "nbformat": 4,
 "nbformat_minor": 4
}

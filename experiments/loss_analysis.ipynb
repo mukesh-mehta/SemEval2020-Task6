{
 "cells": [
  {
   "cell_type": "code",
   "execution_count": null,
   "metadata": {},
   "outputs": [],
   "source": [
    "# read log files\n",
    "log_file = \"../src/log_20191006-152820.log\"\n",
    "with open(log_file) as lf:\n",
    "    all_lines = lf.read().split('\\n')[1:]"
   ]
  },
  {
   "cell_type": "code",
   "execution_count": null,
   "metadata": {},
   "outputs": [],
   "source": [
    "all_lines[:10]"
   ]
  },
  {
   "cell_type": "code",
   "execution_count": null,
   "metadata": {},
   "outputs": [],
   "source": [
    "fold_wise_data = [all_lines[2+i*22:22*(i+1)] for i in range(10)]"
   ]
  },
  {
   "cell_type": "code",
   "execution_count": null,
   "metadata": {},
   "outputs": [],
   "source": [
    "import matplotlib.pyplot as plt\n",
    "import pandas as pd\n",
    "%matplotlib inline\n",
    "\n",
    "# def plot_and_save(i):\n",
    "for i in range(10):\n",
    "    df = pd.DataFrame([lines.split(\",\") for lines in fold_wise_data[i]], columns=['Epoch', 'Training Loss', 'Training f-score', 'Validation Loss', 'Validation f-score'])\n",
    "    df[['Epoch', 'Training Loss', 'Training f-score', 'Validation Loss', 'Validation f-score']] = df[['Epoch', 'Training Loss', 'Training f-score', 'Validation Loss', 'Validation f-score']].astype(float)\n",
    "    df.plot(x=\"Epoch\", y=['Training Loss', 'Validation Loss'], kind=\"line\")\n",
    "    plt.savefig('Loss_{}.png'.format(i))\n",
    "    df.plot(x=\"Epoch\", y=['Training f-score', 'Validation f-score'], kind=\"line\")\n",
    "    plt.savefig('F-Score_{}.png'.format(i))\n",
    "    "
   ]
  },
  {
   "cell_type": "code",
   "execution_count": null,
   "metadata": {},
   "outputs": [],
   "source": [
    "epochs = []\n",
    "tr_loss = []\n",
    "tr_f = []\n",
    "val_loss = []\n",
    "val_f = []\n",
    "\n",
    "for i in range(10):\n",
    "    df = pd.DataFrame([lines.split(\",\") for lines in fold_wise_data[i]], columns=['Epoch', 'Training Loss', 'Training f-score', 'Validation Loss', 'Validation f-score'])\n",
    "    df[['Epoch', 'Training Loss', 'Training f-score', 'Validation Loss', 'Validation f-score']] = df[['Epoch', 'Training Loss', 'Training f-score', 'Validation Loss', 'Validation f-score']].astype(float)\n",
    "    epochs.append(df['Epoch'].values)\n",
    "    tr_loss.append(df['Training Loss'].values)\n",
    "    tr_f.append(df['Training f-score'].values)\n",
    "    val_loss.append(df['Validation Loss'].values)\n",
    "    val_f.append(df['Validation f-score'].values)\n",
    "len(epochs), len(tr_loss), len(tr_f), len(val_loss), len(val_f)"
   ]
  },
  {
   "cell_type": "code",
   "execution_count": null,
   "metadata": {},
   "outputs": [],
   "source": [
    "import numpy as np\n",
    "avg_df = pd.DataFrame(np.array([\n",
    "    np.mean(epochs, axis=0),\n",
    "    np.mean(tr_loss, axis=0),\n",
    "    np.mean(tr_f, axis=0),\n",
    "    np.mean(val_loss, axis=0),\n",
    "    np.mean(val_f, axis=0)\n",
    "]).T, columns=['Epoch', 'Training Loss', 'Training f-score', 'Validation Loss', 'Validation f-score'])\n",
    "avg_df"
   ]
  },
  {
   "cell_type": "code",
   "execution_count": null,
   "metadata": {},
   "outputs": [],
   "source": [
    "avg_df.plot(x=\"Epoch\", y=['Training Loss', 'Validation Loss'], kind=\"line\")\n",
    "plt.savefig('Loss_avg.png'.format(i))\n",
    "avg_df.plot(x=\"Epoch\", y=['Training f-score', 'Validation f-score'], kind=\"line\")\n",
    "plt.savefig('F-Score_avg.png'.format(i))"
   ]
  },
  {
   "cell_type": "code",
   "execution_count": null,
   "metadata": {},
   "outputs": [],
   "source": []
  }
 ],
 "metadata": {
  "kernelspec": {
   "display_name": "Python 3",
   "language": "python",
   "name": "python3"
  },
  "language_info": {
   "codemirror_mode": {
    "name": "ipython",
    "version": 3
   },
   "file_extension": ".py",
   "mimetype": "text/x-python",
   "name": "python",
   "nbconvert_exporter": "python",
   "pygments_lexer": "ipython3",
   "version": "3.7.4"
  }
 },
 "nbformat": 4,
 "nbformat_minor": 4
}
